{
 "cells": [
  {
   "cell_type": "code",
   "execution_count": 167,
   "metadata": {},
   "outputs": [
    {
     "name": "stdout",
     "output_type": "stream",
     "text": [
      "Extracting /tmp/data/train-images-idx3-ubyte.gz\n",
      "Extracting /tmp/data/train-labels-idx1-ubyte.gz\n",
      "Extracting /tmp/data/t10k-images-idx3-ubyte.gz\n",
      "Extracting /tmp/data/t10k-labels-idx1-ubyte.gz\n"
     ]
    }
   ],
   "source": [
    "'''\n",
    "Author: Esha Sarkar\n",
    "Content: Discrimination Control Using Deep Neural Network\n",
    "'''\n",
    "import numpy as np\n",
    "import os\n",
    "os.environ['TF_CPP_MIN_LOG_LEVEL']='2'\n",
    "import tensorflow as tf\n",
    "import matplotlib.pyplot as plt\n",
    "\n",
    "from tensorflow.examples.tutorials.mnist import input_data\n",
    "mnist = input_data.read_data_sets(\"/tmp/data/\", one_hot=True)\n",
    "XTrain = mnist.train.images\n",
    "YTrain = mnist.train.labels\n",
    "XTest = mnist.test.images\n",
    "YTest = mnist.test.labels\n",
    "\n",
    "\n",
    "#------------------Make a modified Dataset with a dot inserted in random images across the training and test dataset\n",
    "def TransformMNIST (OrigX,OrigY):\n",
    "    SelectedImages = np.random.choice(int(OrigX.shape[0]),int(OrigX.shape[0]/2),replace=False) #Choose random images to insert sensitive information\n",
    "\n",
    "    SubX = OrigX[SelectedImages]\n",
    "    SubX[:,729] = 1\n",
    "    \n",
    "    #Uncomment the following 4 lines if you want the flower as sensitive feature\n",
    "    SubX[:,700] = 1\n",
    "    SubX[:,702] = 1\n",
    "    SubX[:,756] = 1\n",
    "    SubX[:,758] = 1\n",
    "    \n",
    "    SubY = OrigY[SelectedImages]\n",
    "    SenYCol = np.zeros((OrigY.shape[0],2))\n",
    "    NewY = np.concatenate((OrigY,SenYCol),axis=1)\n",
    "\n",
    "    for num,i in enumerate(SelectedImages):\n",
    "        OrigX[i]=SubX[num]\n",
    "        NewY[i][11]=1\n",
    "    NewX = OrigX\n",
    "    for i in range(int(OrigX.shape[0])):\n",
    "        if i not in SelectedImages:\n",
    "            NewY[i][10]=1\n",
    "    return (SelectedImages, NewX,NewY)\n",
    "\n",
    "s,XTrainPrime, YTrainPrime = TransformMNIST(XTrain,YTrain)\n",
    "_,XTestPrime, YTestPrime = TransformMNIST(XTest,YTest)\n",
    "#These are our dataset for the rest of the project\n"
   ]
  },
  {
   "cell_type": "markdown",
   "metadata": {},
   "source": [
    "### How a transformed image looks like"
   ]
  },
  {
   "cell_type": "code",
   "execution_count": 168,
   "metadata": {},
   "outputs": [
    {
     "data": {
      "image/png": "[encoded data removed]",
      "text/plain": [
       "<matplotlib.figure.Figure at 0x176eb635a58>"
      ]
     },
     "metadata": {},
     "output_type": "display_data"
    },
    {
     "name": "stdout",
     "output_type": "stream",
     "text": [
      "(27500,)\n"
     ]
    }
   ],
   "source": [
    "n=s[0]\n",
    "X=XTrainPrime[n]\n",
    "TempImage = X.reshape((28,28))\n",
    "plt.imshow(TempImage, cmap='gray')\n",
    "plt.show()"
   ]
  },
  {
   "cell_type": "markdown",
   "metadata": {},
   "source": [
    "### Training information:\n",
    "Each type of optimization followed will have three cell numbers as follows:\n",
    "    <br>Cell no. A: it defines the parameters\n",
    "    <br>Cell no. B: it performs the optimization\n",
    "    <br>Cell no. C: it shows how successful the encoder and classifier have been"
   ]
  },
  {
   "cell_type": "code",
   "execution_count": 172,
   "metadata": {},
   "outputs": [
    {
     "name": "stdout",
     "output_type": "stream",
     "text": [
      "Entering Optimization\n"
     ]
    }
   ],
   "source": [
    "#1A\n",
    "'''Simplest Architecture:\n",
    "    This just has one layer for encoder and one layer for classifier\n",
    "    There are no constraints on how good the generated images are and how well it is getting classified \n",
    "\n",
    "'''\n",
    "XTrial = XTrainPrime[:10]\n",
    "YTrial = YTrainPrime[:10]\n",
    "alpha = (1/16)\n",
    "SensitiveLabels = YTrial[:,10:12]\n",
    "    \n",
    "x = tf.placeholder(tf.float32, [None, 784]) # mnist data image of shape 28*28=784\n",
    "y = tf.placeholder(tf.float32, [None, 12]) # 0-9 digits recognition => 1 class\n",
    "\n",
    "\n",
    "'''-----------------------------------------Encoder Training----------------------------------------------------'''\n",
    "W1 = tf.Variable(tf.random_normal([784, 300], mean=0, stddev=1))\n",
    "b1 = tf.Variable(tf.random_normal([300], mean=0, stddev = 1))\n",
    "W2 = tf.Variable(tf.random_normal([300, 784]))\n",
    "b2 = tf.Variable(tf.random_normal([784]))\n",
    "\n",
    "Hidden1 = tf.nn.relu(tf.matmul(x, W1) + b1);\n",
    "EncImages = tf.nn.tanh(tf.matmul(Hidden1, W2) + b2);\n",
    "EncoderParameters = [W1,b1,W2,b2]\n",
    "    \n",
    "'''---------------------------------------Classifier Training----------------------------------------'''\n",
    "W3 = tf.Variable(tf.random_normal([784, 300], mean=0, stddev=1))\n",
    "b3 = tf.Variable(tf.random_normal([300], mean=0, stddev = 1))\n",
    "W4 = tf.Variable(tf.random_normal([300, 12]))\n",
    "b4 = tf.Variable(tf.random_normal([12]))\n",
    "\n",
    "Hidden2 = tf.nn.relu(tf.matmul(EncImages, W3) + b3);\n",
    "OutputLayer = tf.matmul(Hidden2, W4) + b4;\n",
    "ClassifierParameters = [W3,b3,W4,b4]\n",
    "#print (ClassifierParameters)\n",
    "    \n",
    "  # Optimization\n",
    "learning_rateU = 0.0001\n",
    "learning_rateV = 0.001\n",
    "learning_rateE = 0.0005\n",
    "training_epochs = 9\n",
    "batch_size = 100\n",
    "display_step = 1\n",
    "lambda1 = 1\n",
    "lambda2 = 1\n",
    "print ('Entering Optimization')\n",
    "    \n",
    "predV = tf.nn.softmax(OutputLayer[:,:10])\n",
    "predU = tf.nn.softmax(OutputLayer[:,10:])\n",
    "\n",
    "CostV = tf.reduce_mean(-tf.reduce_sum(y[:,:10]*tf.log(tf.clip_by_value(predV,1e-10,1.0)), reduction_indices=1))\n",
    "CostU = tf.reduce_mean(-tf.reduce_sum(y[:,10:]*tf.log(tf.clip_by_value(predU,1e-10,1.0)), reduction_indices=1))\n",
    "\n",
    "var = tf.reduce_mean(tf.reduce_mean(EncImages**2,reduction_indices=1))\n",
    "cost = CostU - (alpha*CostV) + (lambda1*(tf.reduce_mean(EncImages))) + lambda2*(var-1)\n",
    "\n",
    "ClassifierOptimizer1 = tf.train.AdamOptimizer(learning_rate=learning_rateU).minimize(CostU,var_list=ClassifierParameters)\n",
    "ClassifierOptimizer2 = tf.train.AdamOptimizer(learning_rate=learning_rateV).minimize(CostV,var_list=ClassifierParameters)\n",
    "EncoderOptimizer = tf.train.AdamOptimizer(learning_rate=learning_rateE).minimize(-cost,var_list=EncoderParameters)\n",
    "\n",
    "sess = tf.Session()\n",
    "sess.run(tf.global_variables_initializer())\n",
    "#print (\"Predictions:\", predU.eval(session=sess,feed_dict={x: XTrial, y: YTrial}))"
   ]
  },
  {
   "cell_type": "code",
   "execution_count": 173,
   "metadata": {},
   "outputs": [
    {
     "name": "stdout",
     "output_type": "stream",
     "text": [
      "Epoch= 0 \n",
      "\n",
      "0.0180917635831\n",
      "0.0190820780667 0.0226128040661 0.0180917635831\n",
      "Epoch= 1 \n",
      "\n",
      "0.0187169647217\n",
      "0.0200952876698 0.0188743348555 0.0187169647217\n",
      "Epoch= 2 \n",
      "\n",
      "0.019344107888\n",
      "0.020513938557 0.0170963963595 0.019344107888\n",
      "Epoch= 3 \n",
      "\n",
      "0.0195321984725\n",
      "0.020513938557 0.0151336808638 0.0195321984725\n",
      "Epoch= 4 \n",
      "\n",
      "0.0197753802213\n",
      "0.020513938557 0.0138155096227 0.0197753802213\n",
      "Epoch= 5 \n",
      "\n",
      "0.0198161541332\n",
      "0.020513938557 0.0130380578475 0.0198161541332\n",
      "Epoch= 6 \n",
      "\n",
      "0.0198858295787\n",
      "0.020513938557 0.0117222508517 0.0198858295787\n",
      "Epoch= 7 \n",
      "\n",
      "0.0198836031827\n",
      "0.020513938557 0.0128261384097 0.0198836031827\n",
      "Epoch= 8 \n",
      "\n",
      "0.0199972499501\n",
      "0.020513938557 0.0103531091863 0.0199972499501\n",
      "Optimization Finished!\n"
     ]
    }
   ],
   "source": [
    "#1B\n",
    "for epoch in range(training_epochs):\n",
    "    avg_cost1 = 0.\n",
    "    avg_cost2 = 0.\n",
    "    avg_cost3 = 0.\n",
    "    total_batch = int(int(XTrainPrime.shape[0])/batch_size)\n",
    "    print (\"Epoch=\",epoch,'\\n')\n",
    "    #print (total_batch)\n",
    "    for i in range(total_batch):\n",
    "        batch_xs = XTrainPrime[(i*batch_size):((i+1)*batch_size)]\n",
    "        batch_ys = YTrainPrime[(i*batch_size):((i+1)*batch_size)]\n",
    "        _, c3 = sess.run([EncoderOptimizer, cost], feed_dict={x: batch_xs, y: batch_ys})\n",
    "    avg_cost3 += c3 / total_batch\n",
    "    print (avg_cost3) \n",
    "    \n",
    "    for i in range(total_batch):\n",
    "        #print ('i=',i)\n",
    "        batch_xs = XTrainPrime[(i*batch_size):((i+1)*batch_size)]\n",
    "        batch_ys = YTrainPrime[(i*batch_size):((i+1)*batch_size)]\n",
    "        _, c2 = sess.run([ClassifierOptimizer2, CostV], feed_dict={x: batch_xs, y: batch_ys})\n",
    "        _, c1 = sess.run([ClassifierOptimizer1, CostU], feed_dict={x: batch_xs, y: batch_ys})\n",
    "\n",
    "    avg_cost1 += c1 / total_batch\n",
    "    avg_cost2 += c2 / total_batch\n",
    "\n",
    "    print (avg_cost1,avg_cost2,avg_cost3)\n",
    "    #print (avg_cost3)\n",
    "\n",
    "    #if (epoch+1) % display_step == 0:\n",
    "\n",
    "#        print (\"Epoch:\", '%04d' % (epoch+1), \"cost=\", \"{:.9f}\".format(avg_cost))\n",
    "\n",
    "print (\"Optimization Finished!\")"
   ]
  },
  {
   "cell_type": "code",
   "execution_count": 174,
   "metadata": {},
   "outputs": [
    {
     "name": "stdout",
     "output_type": "stream",
     "text": [
      "Detection rate of Sensitive features (on Test Data): 0.4996\n",
      "Accuracy of Utility (on Test Data): 0.6951\n"
     ]
    }
   ],
   "source": [
    "#1C\n",
    "correct_predictionV = tf.equal(tf.argmax(predV, 1), tf.argmax(y[:,:10], 1))\n",
    "correct_predictionU = tf.equal(tf.argmax(predU, 1), tf.argmax(y[:,10:], 1))\n",
    "\n",
    "#print ((tf.argmax(y[:,10:], 1)).eval(session=sess,feed_dict={x: XTestPrime, y: YTestPrime}))\n",
    "#a=(tf.argmax(predU, 1)).eval(session=sess,feed_dict={x: XTestPrime, y: YTestPrime})\n",
    "#print (XTestPrime.shape)\n",
    "\n",
    "AccuracyU = tf.reduce_mean(tf.cast(correct_predictionU, tf.float32))\n",
    "AccuracyV = tf.reduce_mean(tf.cast(correct_predictionV, tf.float32))\n",
    "print (\"Detection rate of Sensitive features (on Test Data):\", AccuracyU.eval(session=sess,feed_dict={x: XTestPrime, y: YTestPrime}))\n",
    "print (\"Accuracy of Utility (on Test Data):\", AccuracyV.eval(session=sess,feed_dict={x: XTestPrime, y: YTestPrime}))\n",
    "\n",
    "\n",
    "\n"
   ]
  },
  {
   "cell_type": "markdown",
   "metadata": {},
   "source": [
    "As seen above the utility is almost similar to detection of sensitive features"
   ]
  },
  {
   "cell_type": "code",
   "execution_count": 175,
   "metadata": {},
   "outputs": [
    {
     "name": "stdout",
     "output_type": "stream",
     "text": [
      "Entering Optimization\n"
     ]
    }
   ],
   "source": [
    "#2A\n",
    "'''\n",
    "The architecture is same but there are some added constraints. Now all the encoded images have to have zero mean \n",
    "and unit variance. This is done to not saturate the encoder to a constant solution \n",
    "'''\n",
    "\n",
    "XTrial = XTrainPrime[:10]\n",
    "YTrial = YTrainPrime[:10]\n",
    "alpha = (1/16)\n",
    "SensitiveLabels = YTrial[:,10:12]\n",
    "    \n",
    "x = tf.placeholder(tf.float32, [None, 784]) # mnist data image of shape 28*28=784\n",
    "y = tf.placeholder(tf.float32, [None, 12]) # 0-9 digits recognition => 1 class\n",
    "\n",
    "\n",
    "'''-----------------------------------------Encoder Training----------------------------------------------------'''\n",
    "W1 = tf.Variable(tf.random_normal([784, 300], mean=0, stddev=1))\n",
    "b1 = tf.Variable(tf.random_normal([300], mean=0, stddev = 1))\n",
    "W2 = tf.Variable(tf.random_normal([300, 784],mean=0, stddev=1))\n",
    "b2 = tf.Variable(tf.random_normal([784],mean=0, stddev=1))\n",
    "\n",
    "Hidden1 = tf.nn.relu(tf.matmul(x, W1) + b1);\n",
    "EncImages = tf.nn.tanh(tf.matmul(Hidden1, W2) + b2);\n",
    "EncoderParameters = [W1,b1,W2,b2]\n",
    "    \n",
    "'''---------------------------------------Classifier Training----------------------------------------'''\n",
    "W3 = tf.Variable(tf.random_normal([784, 300], mean=0, stddev=1))\n",
    "b3 = tf.Variable(tf.random_normal([300], mean=0, stddev = 1))\n",
    "W4 = tf.Variable(tf.random_normal([300, 12],mean=0, stddev=1))\n",
    "b4 = tf.Variable(tf.random_normal([12],mean=0, stddev=1))\n",
    "\n",
    "Hidden2 = tf.nn.relu(tf.matmul(EncImages, W3) + b3);\n",
    "OutputLayer = tf.matmul(Hidden2, W4) + b4;\n",
    "ClassifierParameters = [W3,b3,W4,b4]\n",
    "#print (ClassifierParameters)\n",
    "    \n",
    "  # Optimization\n",
    "learning_rateU = 0.0001\n",
    "learning_rateV = 0.001\n",
    "learning_rateE = 0.0005\n",
    "training_epochs = 20\n",
    "batch_size = 100\n",
    "display_step = 1\n",
    "lambda1 = 1\n",
    "lambda2 = 1\n",
    "print ('Entering Optimization')\n",
    "    \n",
    "predV = tf.nn.softmax(OutputLayer[:,:10])\n",
    "predU = tf.nn.softmax(OutputLayer[:,10:])\n",
    "\n",
    "CostV = tf.reduce_mean(-tf.reduce_sum(y[:,:10]*tf.log(tf.clip_by_value(predV,1e-10,1.0)), reduction_indices=1))\n",
    "CostU = tf.reduce_mean(-tf.reduce_sum(y[:,10:]*tf.log(tf.clip_by_value(predU,1e-10,1.0)), reduction_indices=1))\n",
    "\n",
    "var = tf.reduce_mean(tf.reduce_mean(EncImages**2,reduction_indices=1))\n",
    "cost = CostU - (alpha*CostV) + (lambda1*(tf.reduce_mean(EncImages))) + lambda2*(var-1)\n",
    "\n",
    "ClassifierOptimizer1 = tf.train.AdamOptimizer(learning_rate=learning_rateU).minimize(CostU,var_list=ClassifierParameters)\n",
    "ClassifierOptimizer2 = tf.train.AdamOptimizer(learning_rate=learning_rateV).minimize(CostV,var_list=ClassifierParameters)\n",
    "EncoderOptimizer = tf.train.AdamOptimizer(learning_rate=learning_rateE).minimize(-cost,var_list=EncoderParameters)\n",
    "\n",
    "sess = tf.Session()\n",
    "sess.run(tf.global_variables_initializer())\n",
    "\n",
    "\n"
   ]
  },
  {
   "cell_type": "code",
   "execution_count": 176,
   "metadata": {},
   "outputs": [
    {
     "name": "stdout",
     "output_type": "stream",
     "text": [
      "Epoch= 0 \n",
      "\n",
      "0.0237671696056\n",
      "0.020531838157 0.0245151138306 0.0237671696056\n",
      "Epoch= 1 \n",
      "\n",
      "0.0238949966431\n",
      "0.0200952876698 0.0174955836209 0.0238949966431\n",
      "Epoch= 2 \n",
      "\n",
      "0.0198725787076\n",
      "0.0200952876698 0.0149038418857 0.0198725787076\n",
      "Epoch= 3 \n",
      "\n",
      "0.0194187979265\n",
      "0.020513938557 0.0113098734075 0.0194187979265\n",
      "Epoch= 4 \n",
      "\n",
      "0.0197866751931\n",
      "0.020513938557 0.011628928618 0.0197866751931\n",
      "Epoch= 5 \n",
      "\n",
      "0.0198353750055\n",
      "0.020513938557 0.00878133253618 0.0198353750055\n",
      "Epoch= 6 \n",
      "\n",
      "0.0200695419312\n",
      "0.020513938557 0.00865246079185 0.0200695419312\n",
      "Epoch= 7 \n",
      "\n",
      "0.0201010478627\n",
      "0.020513938557 0.00837304115295 0.0201010478627\n",
      "Epoch= 8 \n",
      "\n",
      "0.0201380677657\n",
      "0.020513938557 0.00819023219022 0.0201380677657\n",
      "Epoch= 9 \n",
      "\n",
      "0.0202063369751\n",
      "0.020513938557 0.00749094963074 0.0202063369751\n",
      "Epoch= 10 \n",
      "\n",
      "0.0202320428328\n",
      "0.020513938557 0.00499846891923 0.0202320428328\n",
      "Epoch= 11 \n",
      "\n",
      "0.0204189075123\n",
      "0.020513938557 0.00544247367165 0.0204189075123\n",
      "Epoch= 12 \n",
      "\n",
      "0.0203760840676\n",
      "0.020513938557 0.00341945734891 0.0203760840676\n",
      "Epoch= 13 \n",
      "\n",
      "0.0205465524847\n",
      "0.020513938557 0.00326182907278 0.0205465524847\n",
      "Epoch= 14 \n",
      "\n",
      "0.0206105474992\n",
      "0.020513938557 0.00293056271293 0.0206105474992\n",
      "Epoch= 15 \n",
      "\n",
      "0.0206762886047\n",
      "0.020513938557 0.00317653482611 0.0206762886047\n",
      "Epoch= 16 \n",
      "\n",
      "0.0206951332092\n",
      "0.020513938557 0.00400968898426 0.0206951332092\n",
      "Epoch= 17 \n",
      "\n",
      "0.0206156002391\n",
      "0.020513938557 0.00433559807864 0.0206156002391\n",
      "Epoch= 18 \n",
      "\n",
      "0.0207215326483\n",
      "0.020513938557 0.00229345473376 0.0207215326483\n",
      "Epoch= 19 \n",
      "\n",
      "0.020892866308\n",
      "0.020513938557 0.00229325164448 0.020892866308\n",
      "Optimization Finished!\n"
     ]
    }
   ],
   "source": [
    "#2B\n",
    "for epoch in range(training_epochs):\n",
    "    avg_cost1 = 0.\n",
    "    avg_cost2 = 0.\n",
    "    avg_cost3 = 0.\n",
    "    total_batch = int(int(XTrainPrime.shape[0])/batch_size)\n",
    "    print (\"Epoch=\",epoch,'\\n')\n",
    "    #print (total_batch)\n",
    "    for i in range(total_batch):\n",
    "        batch_xs = XTrainPrime[(i*batch_size):((i+1)*batch_size)]\n",
    "        batch_ys = YTrainPrime[(i*batch_size):((i+1)*batch_size)]\n",
    "        _, c3 = sess.run([EncoderOptimizer, cost], feed_dict={x: batch_xs, y: batch_ys})\n",
    "    avg_cost3 += c3 / total_batch\n",
    "    print (avg_cost3) \n",
    "    \n",
    "    for i in range(total_batch):\n",
    "        #print ('i=',i)\n",
    "        batch_xs = XTrainPrime[(i*batch_size):((i+1)*batch_size)]\n",
    "        batch_ys = YTrainPrime[(i*batch_size):((i+1)*batch_size)]\n",
    "        _, c2 = sess.run([ClassifierOptimizer2, CostV], feed_dict={x: batch_xs, y: batch_ys})\n",
    "        _, c1 = sess.run([ClassifierOptimizer1, CostU], feed_dict={x: batch_xs, y: batch_ys})\n",
    "\n",
    "    avg_cost1 += c1 / total_batch\n",
    "    avg_cost2 += c2 / total_batch\n",
    "\n",
    "    print (avg_cost1,avg_cost2,avg_cost3)\n",
    "    #print (avg_cost3)\n",
    "\n",
    "    #if (epoch+1) % display_step == 0:\n",
    "\n",
    "#        print (\"Epoch:\", '%04d' % (epoch+1), \"cost=\", \"{:.9f}\".format(avg_cost))\n",
    "\n",
    "print (\"Optimization Finished!\")"
   ]
  },
  {
   "cell_type": "code",
   "execution_count": 178,
   "metadata": {},
   "outputs": [
    {
     "name": "stdout",
     "output_type": "stream",
     "text": [
      "Detection rate of Sensitive features (on Test Data): 0.5\n",
      "Accuracy of Utility (on Test Data): 0.8877\n"
     ]
    }
   ],
   "source": [
    "#2C\n",
    "correct_predictionV = tf.equal(tf.argmax(predV, 1), tf.argmax(y[:,:10], 1))\n",
    "correct_predictionU = tf.equal(tf.argmax(predU, 1), tf.argmax(y[:,10:], 1))\n",
    "\n",
    "#print ((tf.argmax(y[:,10:], 1)).eval(session=sess,feed_dict={x: XTestPrime, y: YTestPrime}))\n",
    "#a=(tf.argmax(predU, 1)).eval(session=sess,feed_dict={x: XTestPrime, y: YTestPrime})\n",
    "#print (XTestPrime.shape)\n",
    "\n",
    "AccuracyU = tf.reduce_mean(tf.cast(correct_predictionU, tf.float32))\n",
    "AccuracyV = tf.reduce_mean(tf.cast(correct_predictionV, tf.float32))\n",
    "print (\"Detection rate of Sensitive features (on Test Data):\", AccuracyU.eval(session=sess,feed_dict={x: XTestPrime, y: YTestPrime}))\n",
    "print (\"Accuracy of Utility (on Test Data):\", AccuracyV.eval(session=sess,feed_dict={x: XTestPrime, y: YTestPrime}))\n",
    "\n",
    "\n",
    "\n"
   ]
  },
  {
   "attachments": {
    "Encoded%20Image%202.PNG": {
     "image/png": "[encoded data removed]"
    }
   },
   "cell_type": "markdown",
   "metadata": {},
   "source": [
    "Although the above modifications from Cell 2 increases utility but the encoded images look like these:![Encoded%20Image%202.PNG](attachment:Encoded%20Image%202.PNG)\n",
    "We do not want that. We want to add constraints that the encoded image does not look like a bad QR code\n"
   ]
  },
  {
   "cell_type": "code",
   "execution_count": 402,
   "metadata": {},
   "outputs": [
    {
     "name": "stdout",
     "output_type": "stream",
     "text": [
      "Entering Optimization\n"
     ]
    }
   ],
   "source": [
    "#3A\n",
    "XTrial = XTrainPrime[:10]\n",
    "YTrial = YTrainPrime[:10]\n",
    "alpha = (1)\n",
    "SensitiveLabels = YTrial[:,10:12]\n",
    "    \n",
    "x = tf.placeholder(tf.float32, [None, 784]) # mnist data image of shape 28*28=784\n",
    "y = tf.placeholder(tf.float32, [None, 12]) # 0-9 digits recognition => 1 class\n",
    "\n",
    "\n",
    "'''-----------------------------------------Encoder Training----------------------------------------------------'''\n",
    "W1 = tf.Variable(tf.random_normal([784, 500], mean=0, stddev=1))\n",
    "b1 = tf.Variable(tf.random_normal([500], mean=0, stddev = 1))\n",
    "W2 = tf.Variable(tf.random_normal([500, 1000],mean=0, stddev=1))\n",
    "b2 = tf.Variable(tf.random_normal([1000],mean=0, stddev=1))\n",
    "\n",
    "W3 = tf.Variable(tf.random_normal([1000, 784], mean=0, stddev=1))\n",
    "b3 = tf.Variable(tf.random_normal([784], mean=0, stddev = 1))\n",
    "#W3 = tf.Variable(tf.random_normal([800, 784],mean=0, stddev=1))\n",
    "#b3 = tf.Variable(tf.random_normal([784],mean=0, stddev=1))\n",
    "\n",
    "# W1 = tf.Variable(tf.zeros([784, 500]))\n",
    "# b1 = tf.Variable(tf.zeros([500]))\n",
    "# W2 = tf.Variable(tf.zeros([500, 1000]))\n",
    "# b2 = tf.Variable(tf.zeros([1000]))\n",
    "\n",
    "Hidden1 = tf.nn.relu(tf.matmul(x, W1) + b1);\n",
    "Hidden3 = tf.nn.relu(tf.matmul(Hidden1, W2) + b2);\n",
    "EncImagesTemp = tf.nn.relu(tf.matmul(Hidden3, W3) + b3);\n",
    "\n",
    "c = tf.reduce_max(EncImagesTemp)\n",
    "d = tf.reduce_min(EncImagesTemp)\n",
    "EncImages = tf.divide(EncImagesTemp,(c-d))\n",
    "EncoderParameters = [W1,b1,W2,b2,W3,b3]\n",
    "    \n",
    "'''---------------------------------------Classifier Training----------------------------------------'''\n",
    "W3 = tf.Variable(tf.random_normal([784, 300], mean=0, stddev=1))\n",
    "b3 = tf.Variable(tf.random_normal([300], mean=0, stddev = 1))\n",
    "\n",
    "\n",
    "W4 = tf.Variable(tf.random_normal([300, 10],mean=0, stddev=1))\n",
    "b4 = tf.Variable(tf.random_normal([10],mean=0, stddev=1))\n",
    "\n",
    "W5 = tf.Variable(tf.random_normal([300, 2],mean=0, stddev=1))\n",
    "b5 = tf.Variable(tf.random_normal([2],mean=0, stddev=1))\n",
    "\n",
    "Hidden2 = tf.nn.relu(tf.matmul(EncImages, W3) + b3);\n",
    "OutputLayer1 = tf.matmul(Hidden2, W4) + b4;\n",
    "OutputLayer2 = tf.matmul(Hidden2, W5) + b5;\n",
    "ClassifierParameters1 = [W3,b3,W4,b4]\n",
    "ClassifierParameters2 = [W3,b3,W5,b5]\n",
    "#print (ClassifierParameters)\n",
    "    \n",
    "  # Optimization\n",
    "learning_rateU = 0.001\n",
    "learning_rateV = 0.001\n",
    "learning_rateE1 = 0.001\n",
    "learning_rateE2 = 0.001\n",
    "training_epochs = 10\n",
    "batch_size = 100\n",
    "display_step = 1\n",
    "lambda1 = 1\n",
    "lambda2 = 1\n",
    "print ('Entering Optimization')\n",
    "    \n",
    "predV = tf.nn.softmax(OutputLayer1)\n",
    "predU = tf.nn.softmax(OutputLayer2)\n",
    "\n",
    "CostV = tf.reduce_mean(-tf.reduce_sum(y[:,:10]*tf.log(tf.clip_by_value(predV,1e-5,1.0)), reduction_indices=1))\n",
    "CostU = tf.reduce_mean(-tf.reduce_sum(y[:,10:]*tf.log(tf.clip_by_value(predU,1e-5,1.0)), reduction_indices=1))\n",
    "\n",
    "var = tf.reduce_mean(tf.reduce_mean(EncImages**2,reduction_indices=1))\n",
    "cost = CostU - (alpha*CostV)\n",
    "LookSimilarCost = tf.sqrt(tf.reduce_sum((x-EncImages)**2))\n",
    "\n",
    "ClassifierOptimizer1 = tf.train.AdamOptimizer(learning_rate=learning_rateU).minimize(CostU,var_list=ClassifierParameters2)\n",
    "ClassifierOptimizer2 = tf.train.AdamOptimizer(learning_rate=learning_rateV).minimize(CostV,var_list=ClassifierParameters1)\n",
    "EncoderOptimizer1 = tf.train.AdamOptimizer(learning_rate=learning_rateE1).minimize(-cost,var_list=EncoderParameters)\n",
    "EncoderOptimizer2 = tf.train.AdamOptimizer(learning_rate=learning_rateE2).minimize(-cost,var_list=EncoderParameters)\n",
    "\n",
    "# ClassifierOptimizer1 = tf.train.AdamOptimizer(learning_rate=learning_rateU)\n",
    "# ClassifierOptimizer2 = tf.train.AdamOptimizer(learning_rate=learning_rateV)\n",
    "# gvs = ClassifierOptimizer1.compute_gradients(CostU,var_list=ClassifierParameters)\n",
    "# capped_gvs = [(tf.clip_by_value(grad, -1., 1.), var) for grad, var in gvs]\n",
    "# CO1 = ClassifierOptimizer1.apply_gradients(capped_gvs)\n",
    "\n",
    "# gvs = ClassifierOptimizer2.compute_gradients(CostV,var_list=ClassifierParameters)\n",
    "# capped_gvs = [(tf.clip_by_value(grad, -1., 1.), var) for grad, var in gvs]\n",
    "# CO2 = ClassifierOptimizer2.apply_gradients(capped_gvs)\n",
    "\n",
    "\n",
    "# EncoderOptimizer1 = tf.train.AdamOptimizer(learning_rate=learning_rateE1)\n",
    "# EncoderOptimizer2 = tf.train.AdamOptimizer(learning_rate=learning_rateE2)\n",
    "\n",
    "# gvs = EncoderOptimizer1.compute_gradients(-cost,var_list=EncoderParameters)\n",
    "# capped_gvs = [(tf.clip_by_value(grad, -1., 1.), var) for grad, var in gvs]\n",
    "# EO1 = EncoderOptimizer1.apply_gradients(capped_gvs)\n",
    "\n",
    "# gvs = EncoderOptimizer2.compute_gradients(LookSimilarCost,var_list=EncoderParameters)\n",
    "# capped_gvs = [(tf.clip_by_value(grad, -1., 1.), var) for grad, var in gvs]\n",
    "# EO2 = EncoderOptimizer2.apply_gradients(capped_gvs)\n",
    "\n",
    "sess = tf.Session()\n",
    "sess.run(tf.global_variables_initializer())\n",
    "\n",
    "\n"
   ]
  },
  {
   "cell_type": "code",
   "execution_count": 403,
   "metadata": {},
   "outputs": [
    {
     "name": "stdout",
     "output_type": "stream",
     "text": [
      "Epoch= 0 \n",
      "\n",
      "0.0174238638444 0.155216147683\n",
      "0.0102569692785 0.00278850577094\n",
      "Epoch= 1 \n",
      "\n",
      "0.00771695570512 0.155616732511\n",
      "0.0102569692785 0.00238004641099\n",
      "Epoch= 2 \n",
      "\n",
      "0.00793708194386 0.155714957497\n",
      "0.0102569692785 0.00230869358236\n",
      "Epoch= 3 \n",
      "\n",
      "0.00795237627896 0.155704179244\n",
      "0.0102569692785 0.00231407859109\n",
      "Epoch= 4 \n",
      "\n",
      "0.00794390765103 0.15564964988\n",
      "0.0102569692785 0.00231156305833\n",
      "Epoch= 5 \n",
      "\n",
      "0.00795109315352 0.155637581565\n",
      "0.0102569692785 0.00230383266102\n",
      "Epoch= 6 \n",
      "\n",
      "0.00795086773959 0.155556196733\n",
      "0.0102569692785 0.00230312174017\n",
      "Epoch= 7 \n",
      "\n",
      "0.00795080358332 0.155461578369\n",
      "0.0102569692785 0.00230289155787\n",
      "Epoch= 8 \n",
      "\n",
      "0.00795325192538 0.155674369118\n",
      "0.0102569692785 0.00230284690857\n",
      "Epoch= 9 \n",
      "\n",
      "0.00791001753374 0.155843075839\n",
      "0.0102569692785 0.00230293794112\n",
      "Optimization Finished!\n"
     ]
    }
   ],
   "source": [
    "#3B\n",
    "for epoch in range(training_epochs):\n",
    "    avg_cost1 = 0.\n",
    "    avg_cost2 = 0.\n",
    "    avg_cost3 = 0.\n",
    "    avg_cost4 = 0.\n",
    "    total_batch = int(int(XTrainPrime.shape[0])/batch_size)\n",
    "    print (\"Epoch=\",epoch,'\\n')\n",
    "    #print (total_batch)\n",
    "    for i in range(total_batch):\n",
    "        batch_xs = XTrainPrime[(i*batch_size):((i+1)*batch_size)]\n",
    "        batch_ys = YTrainPrime[(i*batch_size):((i+1)*batch_size)]\n",
    "        _, c3 = sess.run([EncoderOptimizer1, cost], feed_dict={x: batch_xs, y: batch_ys})\n",
    "        _, c4 = sess.run([EncoderOptimizer2, LookSimilarCost], feed_dict={x: batch_xs, y: batch_ys})\n",
    "    avg_cost3 += c3 / total_batch\n",
    "    avg_cost4 += c4 / total_batch\n",
    "    print (avg_cost3,avg_cost4) \n",
    "    \n",
    "    for i in range(total_batch):\n",
    "        #print ('i=',i)\n",
    "        batch_xs = XTrainPrime[(i*batch_size):((i+1)*batch_size)]\n",
    "        batch_ys = YTrainPrime[(i*batch_size):((i+1)*batch_size)]\n",
    "        _, c2 = sess.run([ClassifierOptimizer1, CostV], feed_dict={x: batch_xs, y: batch_ys})\n",
    "        _, c1 = sess.run([ClassifierOptimizer2, CostU], feed_dict={x: batch_xs, y: batch_ys})\n",
    "\n",
    "    avg_cost1 += c1 / total_batch\n",
    "    avg_cost2 += c2 / total_batch\n",
    "\n",
    "    print (avg_cost1,avg_cost2)\n",
    "    #print (avg_cost3)\n",
    "\n",
    "    #if (epoch+1) % display_step == 0:\n",
    "\n",
    "#        print (\"Epoch:\", '%04d' % (epoch+1), \"cost=\", \"{:.9f}\".format(avg_cost))\n",
    "\n",
    "print (\"Optimization Finished!\")"
   ]
  },
  {
   "cell_type": "code",
   "execution_count": 404,
   "metadata": {},
   "outputs": [
    {
     "name": "stdout",
     "output_type": "stream",
     "text": [
      "Detection rate of Sensitive features (on Test Data): 0.5\n",
      "Accuracy of Utility (on Test Data): 0.8754\n"
     ]
    }
   ],
   "source": [
    "#3C\n",
    "correct_predictionV = tf.equal(tf.argmax(predV, 1), tf.argmax(y[:,:10], 1))\n",
    "correct_predictionU = tf.equal(tf.argmax(predU, 1), tf.argmax(y[:,10:], 1))\n",
    "\n",
    "#print ((tf.argmax(y[:,10:], 1)).eval(session=sess,feed_dict={x: XTestPrime, y: YTestPrime}))\n",
    "#a=(tf.argmax(predU, 1)).eval(session=sess,feed_dict={x: XTestPrime, y: YTestPrime})\n",
    "#print (XTestPrime.shape)\n",
    "\n",
    "AccuracyU = tf.reduce_mean(tf.cast(correct_predictionU, tf.float32))\n",
    "AccuracyV = tf.reduce_mean(tf.cast(correct_predictionV, tf.float32))\n",
    "print (\"Detection rate of Sensitive features (on Test Data):\", AccuracyU.eval(session=sess,feed_dict={x: XTestPrime, y: YTestPrime}))\n",
    "print (\"Accuracy of Utility (on Test Data):\", AccuracyV.eval(session=sess,feed_dict={x: XTestPrime, y: YTestPrime}))\n",
    "\n",
    "\n",
    "\n"
   ]
  },
  {
   "cell_type": "markdown",
   "metadata": {},
   "source": [
    "### New encoded images"
   ]
  },
  {
   "cell_type": "code",
   "execution_count": 484,
   "metadata": {},
   "outputs": [
    {
     "data": {
      "image/png": "[encoded data removed]",
      "text/plain": [
       "<matplotlib.figure.Figure at 0x17811ec4208>"
      ]
     },
     "metadata": {},
     "output_type": "display_data"
    },
    {
     "data": {
      "image/png": "[encoded data removed]",
      "text/plain": [
       "<matplotlib.figure.Figure at 0x17811be7f28>"
      ]
     },
     "metadata": {},
     "output_type": "display_data"
    },
    {
     "name": "stdout",
     "output_type": "stream",
     "text": [
      "Difference between encoded and original image is 7.31207\n"
     ]
    }
   ],
   "source": [
    "\n",
    "n=s[0]\n",
    "temp1 = XTrainPrime[n].reshape((1,784))\n",
    "temp2 = temp1.reshape((28,28))\n",
    "X=EncImages.eval(session=sess,feed_dict={x:temp1})\n",
    "TempImage = X.reshape((28,28))\n",
    "plt.imshow(temp2, cmap='gray')\n",
    "plt.show()\n",
    "plt.imshow(TempImage, cmap='gray')\n",
    "plt.show()\n",
    "distance = np.sqrt(np.sum((X-temp1)**2))\n",
    "print (\"Difference between encoded and original image is\", distance)\n",
    "# result shows this needs improvement"
   ]
  },
  {
   "cell_type": "code",
   "execution_count": 480,
   "metadata": {
    "scrolled": false
   },
   "outputs": [
    {
     "data": {
      "image/png": "[encoded data removed]",
      "text/plain": [
       "<matplotlib.figure.Figure at 0x1780a4be978>"
      ]
     },
     "metadata": {},
     "output_type": "display_data"
    }
   ],
   "source": [
    "X=EncImages.eval(session=sess,feed_dict={x:temp1})\n",
    "NewX = X[0]\n",
    "#print (NewX)\n",
    "for num, pixel in enumerate(X[0]):\n",
    "    if pixel <=2e-1:\n",
    "        #print (num)\n",
    "        NewX[num] = 0\n",
    "    elif pixel > 3e-1 and pixel <= 5e-1:\n",
    "        NewX[num] = 0.5\n",
    "        #print ('yes')\n",
    "    else:\n",
    "        NewX[num] = 1\n",
    "TempImage = NewX.reshape((28,28))\n",
    "plt.imshow(TempImage, cmap='gray')\n",
    "plt.show()\n",
    "\n",
    "\n",
    "\n"
   ]
  },
  {
   "cell_type": "code",
   "execution_count": 481,
   "metadata": {},
   "outputs": [
    {
     "name": "stdout",
     "output_type": "stream",
     "text": [
      "(1, 784)\n"
     ]
    }
   ],
   "source": [
    "X=EncImages.eval(session=sess,feed_dict={x:temp1})\n",
    "print (X.shape)"
   ]
  }
 ],
 "metadata": {
  "kernelspec": {
   "display_name": "Python 3",
   "language": "python",
   "name": "python3"
  },
  "language_info": {
   "codemirror_mode": {
    "name": "ipython",
    "version": 3
   },
   "file_extension": ".py",
   "mimetype": "text/x-python",
   "name": "python",
   "nbconvert_exporter": "python",
   "pygments_lexer": "ipython3",
   "version": "3.5.4"
  }
 },
 "nbformat": 4,
 "nbformat_minor": 2
}
